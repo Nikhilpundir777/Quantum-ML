{
 "cells": [
  {
   "cell_type": "code",
   "execution_count": 6,
   "id": "fcad7883-8509-452b-800b-2bc6bd2d4f52",
   "metadata": {
    "tags": []
   },
   "outputs": [],
   "source": [
    "# Step 1: Prepare the dataset (assuming features are stored in X and labels in y)\n",
    "# X and y should be numpy arrays with shape (num_samples, num_features) and (num_samples,) respectively\n",
    "import pandas as pd\n",
    "from sklearn.model_selection import train_test_split\n",
    "\n",
    "import pandas as pd\n",
    "import numpy as np\n",
    "\n",
    "# Set random seed for reproducibility\n",
    "np.random.seed(42)\n",
    "\n",
    "# Define the number of samples in the dataset\n",
    "num_samples = 1000\n",
    "\n",
    "# Generate synthetic weather-related features\n",
    "temperature = np.random.uniform(20, 40, num_samples)  # Temperature range: 20 to 40 degrees Celsius\n",
    "humidity = np.random.uniform(30, 90, num_samples)  # Humidity range: 30% to 90%\n",
    "wind_speed = np.random.uniform(0, 20, num_samples)  # Wind speed range: 0 to 20 km/h\n",
    "\n",
    "# Generate the target variable indicating rainfall\n",
    "rainfall_prob = np.exp(-0.05 * temperature + 0.02 * humidity + 0.1 * wind_speed)\n",
    "rainfall = np.random.choice([0, 1], num_samples)\n",
    "\n",
    "# Create a DataFrame to store the dataset\n",
    "data = pd.DataFrame({'Temperature': temperature, 'Humidity': humidity, 'Wind Speed': wind_speed, 'Rainfall': rainfall})\n",
    "\n",
    "# Save the dataset as a CSV file\n",
    "data.to_csv('rainfall_dataset.csv', index=False)\n"
   ]
  },
  {
   "cell_type": "code",
   "execution_count": 35,
   "id": "fec76013-7b64-4284-bc1b-0c1c29febc0f",
   "metadata": {
    "tags": []
   },
   "outputs": [
    {
     "name": "stdout",
     "output_type": "stream",
     "text": [
      "Classical Approach Accuracy: 0.465\n"
     ]
    }
   ],
   "source": [
    "\n",
    "import numpy as np\n",
    "from sklearn.model_selection import train_test_split\n",
    "from sklearn.linear_model import LogisticRegression\n",
    "from sklearn.metrics import accuracy_score\n",
    "from qiskit import Aer, QuantumCircuit, execute\n",
    "\n",
    "\n",
    "\n",
    "# Load and preprocess the dataset\n",
    "data = pd.read_csv('rainfall_dataset.csv')  # Replace 'rainfall_dataset.csv' with your dataset file path\n",
    "\n",
    "# Perform any necessary preprocessing steps, such as handling missing values, encoding categorical variables, etc.\n",
    "# Example: Drop any rows with missing values\n",
    "data = data.dropna()\n",
    "\n",
    "# Split the dataset into features (X) and labels (y)\n",
    "X = data.drop('Rainfall', axis=1)  # Assuming 'Rainfall' is the target variable\n",
    "y = data['Rainfall']\n",
    "# Step 2: Split the dataset into training and testing sets\n",
    "X_train, X_test, y_train, y_test = train_test_split(X, y, test_size=0.2, random_state=42)\n",
    "\n",
    "# Step 3: Quantum-Inspired Classification Algorithm\n",
    "# Classical Approach (Logistic Regression)\n",
    "classical_model = LogisticRegression()\n",
    "classical_model.fit(X_train, y_train)\n",
    "classical_predictions = classical_model.predict(X_test)\n",
    "classical_accuracy = accuracy_score(y_test, classical_predictions)\n",
    "\n",
    "print(\"Classical Approach Accuracy:\", classical_accuracy)"
   ]
  },
  {
   "cell_type": "code",
   "execution_count": 56,
   "id": "06dc48e9-c4fc-40b6-90a0-3640fc7a6e25",
   "metadata": {
    "tags": []
   },
   "outputs": [
    {
     "name": "stdout",
     "output_type": "stream",
     "text": [
      "X shape: (1000, 3)\n",
      "y shape: (1000,)\n"
     ]
    }
   ],
   "source": [
    "print(\"X shape:\", X.shape)\n",
    "print(\"y shape:\", y.shape)\n"
   ]
  },
  {
   "cell_type": "code",
   "execution_count": 57,
   "id": "7f0cb269-6d6b-4dd3-b897-8070e5035c9c",
   "metadata": {
    "tags": []
   },
   "outputs": [],
   "source": [
    "X = X.reshape(y.shape[0], -1)"
   ]
  },
  {
   "cell_type": "code",
   "execution_count": 59,
   "id": "1ce8589c-7442-4889-9f8c-51799d7cd82f",
   "metadata": {
    "tags": []
   },
   "outputs": [
    {
     "name": "stdout",
     "output_type": "stream",
     "text": [
      "Quantum-Inspired Approach Accuracy: 0.485\n"
     ]
    }
   ],
   "source": [
    "import numpy as np\n",
    "from sklearn.model_selection import train_test_split\n",
    "from sklearn.linear_model import LogisticRegression\n",
    "from sklearn.metrics import accuracy_score\n",
    "from qiskit import QuantumCircuit\n",
    "\n",
    "# Step 1: Prepare the dataset (assuming features are stored in X and labels in y)\n",
    "# X and y should be numpy arrays with shape (num_samples, num_features) and (num_samples,) respectively\n",
    "\n",
    "# Step 2: Split the dataset into training and testing sets\n",
    "X_train, X_test, y_train, y_test = train_test_split(X, y, test_size=0.2, random_state=42)\n",
    "\n",
    "# Step 3: Quantum-Inspired Classification Algorithm\n",
    "\n",
    "# Define the quantum circuit for feature mapping\n",
    "def quantum_feature_map(x):\n",
    "    qc = QuantumCircuit(len(x))\n",
    "    # Implement quantum feature mapping operations on the circuit based on desired techniques\n",
    "    # Modify the circuit based on the specific quantum-inspired approach you choose\n",
    "    # Example: Applying Hadamard gates to all qubits\n",
    "    for i, _ in enumerate(x):\n",
    "        qc.h(i)\n",
    "    return qc\n",
    "\n",
    "# Count the occurrences of specific gates in the quantum circuit\n",
    "def count_gate_occurrences(qc):\n",
    "    gate_counts = {}\n",
    "    for gate in qc.count_ops():\n",
    "        gate_counts[gate] = qc.count_ops()[gate]\n",
    "    return gate_counts\n",
    "\n",
    "# Apply feature mapping to the training data\n",
    "X_train_quantum = []\n",
    "for x in X_train:\n",
    "    qc = quantum_feature_map(x)\n",
    "    gate_counts = count_gate_occurrences(qc)\n",
    "    X_train_quantum.append(list(gate_counts.values()))\n",
    "\n",
    "# Apply feature mapping to the testing data\n",
    "X_test_quantum = []\n",
    "for x in X_test:\n",
    "    qc = quantum_feature_map(x)\n",
    "    gate_counts = count_gate_occurrences(qc)\n",
    "    X_test_quantum.append(list(gate_counts.values()))\n",
    "\n",
    "# Perform quantum-inspired classification (here, using Logistic Regression as an example)\n",
    "quantum_model = LogisticRegression()\n",
    "quantum_model.fit(X_train_quantum, y_train)\n",
    "quantum_predictions = quantum_model.predict(X_test_quantum)\n",
    "quantum_accuracy = accuracy_score(y_test, quantum_predictions)\n",
    "\n",
    "# Step 4: Print the accuracy of the quantum-inspired approach\n",
    "print(\"Quantum-Inspired Approach Accuracy:\", quantum_accuracy)\n"
   ]
  },
  {
   "cell_type": "code",
   "execution_count": 61,
   "id": "09e4083a-8381-46e8-995e-1efce7e8b435",
   "metadata": {
    "tags": []
   },
   "outputs": [
    {
     "name": "stdout",
     "output_type": "stream",
     "text": [
      "Classical Approach Accuracy: 0.465\n",
      "Quantum-Inspired Approach Accuracy: 0.485\n"
     ]
    }
   ],
   "source": [
    "\n",
    "# Step 4: Compare the performance of classical and quantum-inspired approaches\n",
    "print(\"Classical Approach Accuracy:\", classical_accuracy)\n",
    "print(\"Quantum-Inspired Approach Accuracy:\", quantum_accuracy)"
   ]
  },
  {
   "cell_type": "code",
   "execution_count": null,
   "id": "c9a93770-b5bd-4738-ba60-1bf6bad8196a",
   "metadata": {
    "tags": []
   },
   "outputs": [],
   "source": []
  },
  {
   "cell_type": "code",
   "execution_count": null,
   "id": "aafd1475-e035-4847-9651-512a2be95e6e",
   "metadata": {},
   "outputs": [],
   "source": []
  }
 ],
 "metadata": {
  "kernelspec": {
   "display_name": "Python 3 (ipykernel)",
   "language": "python",
   "name": "python3"
  },
  "language_info": {
   "codemirror_mode": {
    "name": "ipython",
    "version": 3
   },
   "file_extension": ".py",
   "mimetype": "text/x-python",
   "name": "python",
   "nbconvert_exporter": "python",
   "pygments_lexer": "ipython3",
   "version": "3.10.8"
  },
  "widgets": {
   "application/vnd.jupyter.widget-state+json": {
    "state": {
     "162c2580c0ed486ab7688190861f1cf2": {
      "model_module": "@jupyter-widgets/controls",
      "model_module_version": "2.0.0",
      "model_name": "HBoxModel",
      "state": {
       "children": [
        "IPY_MODEL_5ba85b2945524bc498d171b397bc3100",
        "IPY_MODEL_2199c07f88cf499983d87f62f992e561",
        "IPY_MODEL_f5796b8c18ea494fb4dd4ec8ccd84450",
        "IPY_MODEL_32dfe0776e1841dc8bcbd7771eba584c",
        "IPY_MODEL_36bc11bea257476782ec2443446da4fc"
       ],
       "layout": "IPY_MODEL_c3d22654c4c44d45b0942a01473ab69f"
      }
     },
     "1e21d5c9dd4748b3af2de636afe584d8": {
      "model_module": "@jupyter-widgets/base",
      "model_module_version": "2.0.0",
      "model_name": "LayoutModel",
      "state": {
       "width": "190px"
      }
     },
     "1f7337baa02e4468b26f061d6e753596": {
      "model_module": "@jupyter-widgets/controls",
      "model_module_version": "2.0.0",
      "model_name": "ButtonStyleModel",
      "state": {
       "font_family": null,
       "font_size": null,
       "font_style": null,
       "font_variant": null,
       "font_weight": null,
       "text_color": null,
       "text_decoration": null
      }
     },
     "2199c07f88cf499983d87f62f992e561": {
      "model_module": "@jupyter-widgets/controls",
      "model_module_version": "2.0.0",
      "model_name": "HTMLModel",
      "state": {
       "layout": "IPY_MODEL_e32597e3b71c4b87bb078093859031a5",
       "style": "IPY_MODEL_cc8d94d21f894cca80d5cd4f9b0a1d0b",
       "value": "<h5>Backend</h5>"
      }
     },
     "23ca98efaa6948ee8b9cc84de9a29cd1": {
      "model_module": "@jupyter-widgets/controls",
      "model_module_version": "2.0.0",
      "model_name": "GridBoxModel",
      "state": {
       "children": [
        "IPY_MODEL_5b61fe9b64f842c294c3ed023090d804"
       ],
       "layout": "IPY_MODEL_5f7c8d49fa174483bcfcf6dc091d5daa"
      }
     },
     "32dfe0776e1841dc8bcbd7771eba584c": {
      "model_module": "@jupyter-widgets/controls",
      "model_module_version": "2.0.0",
      "model_name": "HTMLModel",
      "state": {
       "layout": "IPY_MODEL_8db41dc5879a4edfb20e6b2cfc6c8ab1",
       "style": "IPY_MODEL_4bd54a08d4844226a3f5b3785dfd32bb",
       "value": "<h5>Queue</h5>"
      }
     },
     "36bc11bea257476782ec2443446da4fc": {
      "model_module": "@jupyter-widgets/controls",
      "model_module_version": "2.0.0",
      "model_name": "HTMLModel",
      "state": {
       "layout": "IPY_MODEL_a95e3a27432d4dfb942800687f13a9ea",
       "style": "IPY_MODEL_766fe736095f4e0c828a4054887f9b66",
       "value": "<h5>Message</h5>"
      }
     },
     "4bd54a08d4844226a3f5b3785dfd32bb": {
      "model_module": "@jupyter-widgets/controls",
      "model_module_version": "2.0.0",
      "model_name": "HTMLStyleModel",
      "state": {
       "description_width": "",
       "font_size": null,
       "text_color": null
      }
     },
     "5b61fe9b64f842c294c3ed023090d804": {
      "model_module": "@jupyter-widgets/controls",
      "model_module_version": "2.0.0",
      "model_name": "ButtonModel",
      "state": {
       "button_style": "primary",
       "description": "Clear",
       "layout": "IPY_MODEL_ed6c86da82ad46cf8e4a1f70f63873b4",
       "style": "IPY_MODEL_1f7337baa02e4468b26f061d6e753596",
       "tooltip": null
      }
     },
     "5ba85b2945524bc498d171b397bc3100": {
      "model_module": "@jupyter-widgets/controls",
      "model_module_version": "2.0.0",
      "model_name": "HTMLModel",
      "state": {
       "layout": "IPY_MODEL_1e21d5c9dd4748b3af2de636afe584d8",
       "style": "IPY_MODEL_5c14460f0004407d88d94f4e6be5adc4",
       "value": "<h5>Job ID</h5>"
      }
     },
     "5c14460f0004407d88d94f4e6be5adc4": {
      "model_module": "@jupyter-widgets/controls",
      "model_module_version": "2.0.0",
      "model_name": "HTMLStyleModel",
      "state": {
       "description_width": "",
       "font_size": null,
       "text_color": null
      }
     },
     "5f7c8d49fa174483bcfcf6dc091d5daa": {
      "model_module": "@jupyter-widgets/base",
      "model_module_version": "2.0.0",
      "model_name": "LayoutModel",
      "state": {
       "grid_template_areas": "\n                                       \". . . . right \"\n                                        ",
       "grid_template_columns": "20% 20% 20% 20% 20%",
       "width": "100%"
      }
     },
     "766fe736095f4e0c828a4054887f9b66": {
      "model_module": "@jupyter-widgets/controls",
      "model_module_version": "2.0.0",
      "model_name": "HTMLStyleModel",
      "state": {
       "description_width": "",
       "font_size": null,
       "text_color": null
      }
     },
     "7a2610a517344735b82ce875679e2eaa": {
      "model_module": "@jupyter-widgets/base",
      "model_module_version": "2.0.0",
      "model_name": "LayoutModel",
      "state": {
       "margin": "0px 0px 10px 0px"
      }
     },
     "8db41dc5879a4edfb20e6b2cfc6c8ab1": {
      "model_module": "@jupyter-widgets/base",
      "model_module_version": "2.0.0",
      "model_name": "LayoutModel",
      "state": {
       "width": "70px"
      }
     },
     "a95e3a27432d4dfb942800687f13a9ea": {
      "model_module": "@jupyter-widgets/base",
      "model_module_version": "2.0.0",
      "model_name": "LayoutModel",
      "state": {}
     },
     "c3d22654c4c44d45b0942a01473ab69f": {
      "model_module": "@jupyter-widgets/base",
      "model_module_version": "2.0.0",
      "model_name": "LayoutModel",
      "state": {
       "margin": "0px 0px 0px 37px",
       "width": "600px"
      }
     },
     "cc8d94d21f894cca80d5cd4f9b0a1d0b": {
      "model_module": "@jupyter-widgets/controls",
      "model_module_version": "2.0.0",
      "model_name": "HTMLStyleModel",
      "state": {
       "description_width": "",
       "font_size": null,
       "text_color": null
      }
     },
     "cfb20add869d47dea1a1f484c42674d1": {
      "model_module": "@jupyter-widgets/controls",
      "model_module_version": "2.0.0",
      "model_name": "HTMLStyleModel",
      "state": {
       "description_width": "",
       "font_size": null,
       "text_color": null
      }
     },
     "cfbbad806b954431af4c9b74b4883bd6": {
      "model_module": "@jupyter-widgets/base",
      "model_module_version": "2.0.0",
      "model_name": "LayoutModel",
      "state": {
       "width": "95px"
      }
     },
     "e32597e3b71c4b87bb078093859031a5": {
      "model_module": "@jupyter-widgets/base",
      "model_module_version": "2.0.0",
      "model_name": "LayoutModel",
      "state": {
       "width": "145px"
      }
     },
     "ed6c86da82ad46cf8e4a1f70f63873b4": {
      "model_module": "@jupyter-widgets/base",
      "model_module_version": "2.0.0",
      "model_name": "LayoutModel",
      "state": {
       "grid_area": "right",
       "padding": "0px 0px 0px 0px",
       "width": "70px"
      }
     },
     "f492c383d95c4f2e9a50a5f3ec516902": {
      "model_module": "@jupyter-widgets/controls",
      "model_module_version": "2.0.0",
      "model_name": "HTMLModel",
      "state": {
       "layout": "IPY_MODEL_7a2610a517344735b82ce875679e2eaa",
       "style": "IPY_MODEL_fc8b0f765da348e2acdd34955d63d452",
       "value": "<p style='font-family: IBM Plex Sans, Arial, Helvetica, sans-serif; font-size: 20px; font-weight: medium;'>Circuit Properties</p>"
      }
     },
     "f5796b8c18ea494fb4dd4ec8ccd84450": {
      "model_module": "@jupyter-widgets/controls",
      "model_module_version": "2.0.0",
      "model_name": "HTMLModel",
      "state": {
       "layout": "IPY_MODEL_cfbbad806b954431af4c9b74b4883bd6",
       "style": "IPY_MODEL_cfb20add869d47dea1a1f484c42674d1",
       "value": "<h5>Status</h5>"
      }
     },
     "fc8b0f765da348e2acdd34955d63d452": {
      "model_module": "@jupyter-widgets/controls",
      "model_module_version": "2.0.0",
      "model_name": "HTMLStyleModel",
      "state": {
       "description_width": "",
       "font_size": null,
       "text_color": null
      }
     }
    },
    "version_major": 2,
    "version_minor": 0
   }
  }
 },
 "nbformat": 4,
 "nbformat_minor": 5
}
